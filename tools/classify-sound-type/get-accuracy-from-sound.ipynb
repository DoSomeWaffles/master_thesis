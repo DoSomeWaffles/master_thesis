{
 "cells": [
  {
   "cell_type": "code",
   "execution_count": 13,
   "metadata": {},
   "outputs": [
    {
     "name": "stdout",
     "output_type": "stream",
     "text": [
      "['2023.05.30-09.43.18-2sec-left_to_right', '2023.05.30-09.43.18-2sec-multiple_cars', '2023.05.30-09.43.18-2sec-no_car', '2023.05.30-09.43.18-2sec-right_to_left']\n",
      "0 [5, 3, 13, 9]\n",
      "1 [4, 5, 7, 6]\n",
      "2 [11, 7, 28, 23]\n",
      "3 [6, 1, 2, 2]\n"
     ]
    },
    {
     "ename": "KeyError",
     "evalue": "\"'blues' is not a known colormap name\"",
     "output_type": "error",
     "traceback": [
      "\u001b[1;31m---------------------------------------------------------------------------\u001b[0m",
      "\u001b[1;31mKeyError\u001b[0m                                  Traceback (most recent call last)",
      "\u001b[1;32mc:\\Users\\denis.rosset\\Documents\\workspace\\tm-ssdeai\\tools\\classify-sound-type\\get-accuracy-from-sound.ipynb Cell 1\u001b[0m in \u001b[0;36m5\n\u001b[0;32m     <a href='vscode-notebook-cell:/c%3A/Users/denis.rosset/Documents/workspace/tm-ssdeai/tools/classify-sound-type/get-accuracy-from-sound.ipynb#W0sZmlsZQ%3D%3D?line=54'>55</a>\u001b[0m confusion_matrix \u001b[39m=\u001b[39m np\u001b[39m.\u001b[39marray(confusion_matrix)\n\u001b[0;32m     <a href='vscode-notebook-cell:/c%3A/Users/denis.rosset/Documents/workspace/tm-ssdeai/tools/classify-sound-type/get-accuracy-from-sound.ipynb#W0sZmlsZQ%3D%3D?line=55'>56</a>\u001b[0m ax \u001b[39m=\u001b[39mplt\u001b[39m.\u001b[39msubplot()\n\u001b[1;32m---> <a href='vscode-notebook-cell:/c%3A/Users/denis.rosset/Documents/workspace/tm-ssdeai/tools/classify-sound-type/get-accuracy-from-sound.ipynb#W0sZmlsZQ%3D%3D?line=56'>57</a>\u001b[0m sns\u001b[39m.\u001b[39mheatmap(confusion_matrix, ax\u001b[39m=\u001b[39max, cmap\u001b[39m=\u001b[39m\u001b[39m\"\u001b[39m\u001b[39mblues\u001b[39m\u001b[39m\"\u001b[39m, annot\u001b[39m=\u001b[39m\u001b[39mTrue\u001b[39;00m, xticklabels\u001b[39m=\u001b[39mkeys, yticklabels\u001b[39m=\u001b[39mkeys)\n\u001b[0;32m     <a href='vscode-notebook-cell:/c%3A/Users/denis.rosset/Documents/workspace/tm-ssdeai/tools/classify-sound-type/get-accuracy-from-sound.ipynb#W0sZmlsZQ%3D%3D?line=57'>58</a>\u001b[0m ax\u001b[39m.\u001b[39mset_title(\u001b[39m'\u001b[39m\u001b[39mConfusion Matrix\u001b[39m\u001b[39m'\u001b[39m)\n\u001b[0;32m     <a href='vscode-notebook-cell:/c%3A/Users/denis.rosset/Documents/workspace/tm-ssdeai/tools/classify-sound-type/get-accuracy-from-sound.ipynb#W0sZmlsZQ%3D%3D?line=58'>59</a>\u001b[0m ax\u001b[39m.\u001b[39mset_xlabel(\u001b[39m'\u001b[39m\u001b[39mPredicted\u001b[39m\u001b[39m'\u001b[39m)\n",
      "File \u001b[1;32m~\\AppData\\Local\\Packages\\PythonSoftwareFoundation.Python.3.10_qbz5n2kfra8p0\\LocalCache\\local-packages\\Python310\\site-packages\\seaborn\\matrix.py:446\u001b[0m, in \u001b[0;36mheatmap\u001b[1;34m(data, vmin, vmax, cmap, center, robust, annot, fmt, annot_kws, linewidths, linecolor, cbar, cbar_kws, cbar_ax, square, xticklabels, yticklabels, mask, ax, **kwargs)\u001b[0m\n\u001b[0;32m    365\u001b[0m \u001b[39m\"\"\"Plot rectangular data as a color-encoded matrix.\u001b[39;00m\n\u001b[0;32m    366\u001b[0m \n\u001b[0;32m    367\u001b[0m \u001b[39mThis is an Axes-level function and will draw the heatmap into the\u001b[39;00m\n\u001b[1;32m   (...)\u001b[0m\n\u001b[0;32m    443\u001b[0m \n\u001b[0;32m    444\u001b[0m \u001b[39m\"\"\"\u001b[39;00m\n\u001b[0;32m    445\u001b[0m \u001b[39m# Initialize the plotter object\u001b[39;00m\n\u001b[1;32m--> 446\u001b[0m plotter \u001b[39m=\u001b[39m _HeatMapper(data, vmin, vmax, cmap, center, robust, annot, fmt,\n\u001b[0;32m    447\u001b[0m                       annot_kws, cbar, cbar_kws, xticklabels,\n\u001b[0;32m    448\u001b[0m                       yticklabels, mask)\n\u001b[0;32m    450\u001b[0m \u001b[39m# Add the pcolormesh kwargs here\u001b[39;00m\n\u001b[0;32m    451\u001b[0m kwargs[\u001b[39m\"\u001b[39m\u001b[39mlinewidths\u001b[39m\u001b[39m\"\u001b[39m] \u001b[39m=\u001b[39m linewidths\n",
      "File \u001b[1;32m~\\AppData\\Local\\Packages\\PythonSoftwareFoundation.Python.3.10_qbz5n2kfra8p0\\LocalCache\\local-packages\\Python310\\site-packages\\seaborn\\matrix.py:163\u001b[0m, in \u001b[0;36m_HeatMapper.__init__\u001b[1;34m(self, data, vmin, vmax, cmap, center, robust, annot, fmt, annot_kws, cbar, cbar_kws, xticklabels, yticklabels, mask)\u001b[0m\n\u001b[0;32m    160\u001b[0m \u001b[39mself\u001b[39m\u001b[39m.\u001b[39mylabel \u001b[39m=\u001b[39m ylabel \u001b[39mif\u001b[39;00m ylabel \u001b[39mis\u001b[39;00m \u001b[39mnot\u001b[39;00m \u001b[39mNone\u001b[39;00m \u001b[39melse\u001b[39;00m \u001b[39m\"\u001b[39m\u001b[39m\"\u001b[39m\n\u001b[0;32m    162\u001b[0m \u001b[39m# Determine good default values for the colormapping\u001b[39;00m\n\u001b[1;32m--> 163\u001b[0m \u001b[39mself\u001b[39;49m\u001b[39m.\u001b[39;49m_determine_cmap_params(plot_data, vmin, vmax,\n\u001b[0;32m    164\u001b[0m                             cmap, center, robust)\n\u001b[0;32m    166\u001b[0m \u001b[39m# Sort out the annotations\u001b[39;00m\n\u001b[0;32m    167\u001b[0m \u001b[39mif\u001b[39;00m annot \u001b[39mis\u001b[39;00m \u001b[39mNone\u001b[39;00m \u001b[39mor\u001b[39;00m annot \u001b[39mis\u001b[39;00m \u001b[39mFalse\u001b[39;00m:\n",
      "File \u001b[1;32m~\\AppData\\Local\\Packages\\PythonSoftwareFoundation.Python.3.10_qbz5n2kfra8p0\\LocalCache\\local-packages\\Python310\\site-packages\\seaborn\\matrix.py:217\u001b[0m, in \u001b[0;36m_HeatMapper._determine_cmap_params\u001b[1;34m(self, plot_data, vmin, vmax, cmap, center, robust)\u001b[0m\n\u001b[0;32m    215\u001b[0m         \u001b[39mself\u001b[39m\u001b[39m.\u001b[39mcmap \u001b[39m=\u001b[39m cm\u001b[39m.\u001b[39micefire\n\u001b[0;32m    216\u001b[0m \u001b[39melif\u001b[39;00m \u001b[39misinstance\u001b[39m(cmap, \u001b[39mstr\u001b[39m):\n\u001b[1;32m--> 217\u001b[0m     \u001b[39mself\u001b[39m\u001b[39m.\u001b[39mcmap \u001b[39m=\u001b[39m get_colormap(cmap)\n\u001b[0;32m    218\u001b[0m \u001b[39melif\u001b[39;00m \u001b[39misinstance\u001b[39m(cmap, \u001b[39mlist\u001b[39m):\n\u001b[0;32m    219\u001b[0m     \u001b[39mself\u001b[39m\u001b[39m.\u001b[39mcmap \u001b[39m=\u001b[39m mpl\u001b[39m.\u001b[39mcolors\u001b[39m.\u001b[39mListedColormap(cmap)\n",
      "File \u001b[1;32m~\\AppData\\Local\\Packages\\PythonSoftwareFoundation.Python.3.10_qbz5n2kfra8p0\\LocalCache\\local-packages\\Python310\\site-packages\\seaborn\\_compat.py:133\u001b[0m, in \u001b[0;36mget_colormap\u001b[1;34m(name)\u001b[0m\n\u001b[0;32m    131\u001b[0m \u001b[39m\"\"\"Handle changes to matplotlib colormap interface in 3.6.\"\"\"\u001b[39;00m\n\u001b[0;32m    132\u001b[0m \u001b[39mtry\u001b[39;00m:\n\u001b[1;32m--> 133\u001b[0m     \u001b[39mreturn\u001b[39;00m mpl\u001b[39m.\u001b[39;49mcolormaps[name]\n\u001b[0;32m    134\u001b[0m \u001b[39mexcept\u001b[39;00m \u001b[39mAttributeError\u001b[39;00m:\n\u001b[0;32m    135\u001b[0m     \u001b[39mreturn\u001b[39;00m mpl\u001b[39m.\u001b[39mcm\u001b[39m.\u001b[39mget_cmap(name)\n",
      "File \u001b[1;32m~\\AppData\\Local\\Packages\\PythonSoftwareFoundation.Python.3.10_qbz5n2kfra8p0\\LocalCache\\local-packages\\Python310\\site-packages\\matplotlib\\cm.py:82\u001b[0m, in \u001b[0;36mColormapRegistry.__getitem__\u001b[1;34m(self, item)\u001b[0m\n\u001b[0;32m     80\u001b[0m     \u001b[39mreturn\u001b[39;00m \u001b[39mself\u001b[39m\u001b[39m.\u001b[39m_cmaps[item]\u001b[39m.\u001b[39mcopy()\n\u001b[0;32m     81\u001b[0m \u001b[39mexcept\u001b[39;00m \u001b[39mKeyError\u001b[39;00m:\n\u001b[1;32m---> 82\u001b[0m     \u001b[39mraise\u001b[39;00m \u001b[39mKeyError\u001b[39;00m(\u001b[39mf\u001b[39m\u001b[39m\"\u001b[39m\u001b[39m{\u001b[39;00mitem\u001b[39m!r}\u001b[39;00m\u001b[39m is not a known colormap name\u001b[39m\u001b[39m\"\u001b[39m) \u001b[39mfrom\u001b[39;00m \u001b[39mNone\u001b[39m\n",
      "\u001b[1;31mKeyError\u001b[0m: \"'blues' is not a known colormap name\""
     ]
    },
    {
     "data": {
      "image/png": "[encoded data removed]",
      "text/plain": [
       "<Figure size 640x480 with 1 Axes>"
      ]
     },
     "metadata": {},
     "output_type": "display_data"
    }
   ],
   "source": [
    "import os\n",
    "import plotly.graph_objs as go\n",
    "import numpy as np\n",
    "import seaborn as sns\n",
    "\n",
    "labels = os.listdir('dataset/labeled-from-video')\n",
    "\n",
    "classified_file_names = {}\n",
    "for label in labels:\n",
    "    classified_file_names[label] = os.listdir('dataset/labeled-from-video/' + label)\n",
    "\n",
    "\n",
    "labels_audio = os.listdir('dataset/labeled-from-audio')\n",
    "\n",
    "classified_file_names_audio = {}\n",
    "for label in labels_audio:\n",
    "    classified_file_names_audio[label] = os.listdir('dataset/labeled-from-audio/' + label)\n",
    "\n",
    "matrix={}\n",
    "for label in labels:\n",
    "    matrix[label] = {}\n",
    "    for label_audio in labels_audio:\n",
    "        matrix[label][label_audio] = 0\n",
    "# compare the two dictionaries and get the accuracy of the audio classification\n",
    "total_files = 0\n",
    "total_correct = 0\n",
    "total_found = 0\n",
    "for label_audio in labels_audio:\n",
    "    label_correct = 0\n",
    "    for file in classified_file_names_audio[label_audio]:\n",
    "        if file in classified_file_names[label_audio]:\n",
    "            total_correct += 1\n",
    "            label_correct += 1\n",
    "        for label in labels:\n",
    "            if file in classified_file_names[label]:\n",
    "                matrix[label_audio][label] += 1\n",
    "                total_found += 1\n",
    "        total_files += 1\n",
    "\n",
    "# plot the confusion matrix\n",
    "import matplotlib.pyplot as plt\n",
    "import numpy as np\n",
    "keys = list(matrix.keys())\n",
    "print(keys)\n",
    "confusion_matrix = []\n",
    "for i,j in zip(list(matrix.keys()),list(matrix.values())):\n",
    "    print(keys.index(i),end=' ')\n",
    "    print(list(j.values()))\n",
    "    confusion_matrix.append(list(j.values()))\n",
    "\n",
    "keys = [i[len(\"2023.05.30-09.43.18-2sec-\"):] for i in keys]\n",
    "\n",
    "\n",
    "\n",
    "confusion_matrix = np.array(confusion_matrix)\n",
    "ax =plt.subplot()\n",
    "sns.heatmap(confusion_matrix, ax=ax, cmap='Blues', annot=True, xticklabels=keys, yticklabels=keys)\n",
    "ax.set_title('Confusion Matrix')\n",
    "ax.set_xlabel('Predicted')\n",
    "ax.set_ylabel('Actual')\n",
    "plt.show()\n",
    "\n",
    "\n",
    "print(\"Accuracy of audio classification:\", round(100*total_correct/total_files,2),\"%\")"
   ]
  }
 ],
 "metadata": {
  "kernelspec": {
   "display_name": "Python 3",
   "language": "python",
   "name": "python3"
  },
  "language_info": {
   "codemirror_mode": {
    "name": "ipython",
    "version": 3
   },
   "file_extension": ".py",
   "mimetype": "text/x-python",
   "name": "python",
   "nbconvert_exporter": "python",
   "pygments_lexer": "ipython3",
   "version": "3.10.11"
  },
  "orig_nbformat": 4
 },
 "nbformat": 4,
 "nbformat_minor": 2
}
