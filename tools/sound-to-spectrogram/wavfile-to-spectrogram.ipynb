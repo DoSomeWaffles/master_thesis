{
 "cells": [
  {
   "cell_type": "code",
   "execution_count": 5,
   "metadata": {},
   "outputs": [
    {
     "name": "stdout",
     "output_type": "stream",
     "text": [
      "['../../sound-propagation-simulation/dataset\\\\fromleft\\\\toleft\\\\record1.012058.wav', '../../sound-propagation-simulation/dataset\\\\fromleft\\\\toleft\\\\record104.9319.wav', '../../sound-propagation-simulation/dataset\\\\fromleft\\\\toleft\\\\record109.0041.wav', '../../sound-propagation-simulation/dataset\\\\fromleft\\\\toleft\\\\record113.07.wav', '../../sound-propagation-simulation/dataset\\\\fromleft\\\\toleft\\\\record117.1488.wav', '../../sound-propagation-simulation/dataset\\\\fromleft\\\\toleft\\\\record122.2293.wav', '../../sound-propagation-simulation/dataset\\\\fromleft\\\\toleft\\\\record126.2736.wav', '../../sound-propagation-simulation/dataset\\\\fromleft\\\\toleft\\\\record13.2445.wav', '../../sound-propagation-simulation/dataset\\\\fromleft\\\\toleft\\\\record130.3229.wav', '../../sound-propagation-simulation/dataset\\\\fromleft\\\\toleft\\\\record134.3917.wav', '../../sound-propagation-simulation/dataset\\\\fromleft\\\\toleft\\\\record139.4561.wav', '../../sound-propagation-simulation/dataset\\\\fromleft\\\\toleft\\\\record143.5282.wav', '../../sound-propagation-simulation/dataset\\\\fromleft\\\\toleft\\\\record147.5688.wav', '../../sound-propagation-simulation/dataset\\\\fromleft\\\\toleft\\\\record152.6599.wav', '../../sound-propagation-simulation/dataset\\\\fromleft\\\\toleft\\\\record156.7117.wav', '../../sound-propagation-simulation/dataset\\\\fromleft\\\\toleft\\\\record160.7933.wav', '../../sound-propagation-simulation/dataset\\\\fromleft\\\\toleft\\\\record164.8566.wav', '../../sound-propagation-simulation/dataset\\\\fromleft\\\\toleft\\\\record169.9349.wav', '../../sound-propagation-simulation/dataset\\\\fromleft\\\\toleft\\\\record174.078.wav', '../../sound-propagation-simulation/dataset\\\\fromleft\\\\toleft\\\\record178.1642.wav', '../../sound-propagation-simulation/dataset\\\\fromleft\\\\toleft\\\\record18.34685.wav', '../../sound-propagation-simulation/dataset\\\\fromleft\\\\toleft\\\\record182.2332.wav', '../../sound-propagation-simulation/dataset\\\\fromleft\\\\toleft\\\\record187.3327.wav', '../../sound-propagation-simulation/dataset\\\\fromleft\\\\toleft\\\\record191.407.wav', '../../sound-propagation-simulation/dataset\\\\fromleft\\\\toleft\\\\record195.4475.wav', '../../sound-propagation-simulation/dataset\\\\fromleft\\\\toleft\\\\record199.5207.wav', '../../sound-propagation-simulation/dataset\\\\fromleft\\\\toleft\\\\record204.5927.wav', '../../sound-propagation-simulation/dataset\\\\fromleft\\\\toleft\\\\record208.6542.wav', '../../sound-propagation-simulation/dataset\\\\fromleft\\\\toleft\\\\record212.744.wav', '../../sound-propagation-simulation/dataset\\\\fromleft\\\\toleft\\\\record216.8147.wav', '../../sound-propagation-simulation/dataset\\\\fromleft\\\\toleft\\\\record22.4038.wav', '../../sound-propagation-simulation/dataset\\\\fromleft\\\\toleft\\\\record221.8769.wav', '../../sound-propagation-simulation/dataset\\\\fromleft\\\\toleft\\\\record225.9636.wav', '../../sound-propagation-simulation/dataset\\\\fromleft\\\\toleft\\\\record230.0202.wav', '../../sound-propagation-simulation/dataset\\\\fromleft\\\\toleft\\\\record234.0639.wav', '../../sound-propagation-simulation/dataset\\\\fromleft\\\\toleft\\\\record239.1438.wav', '../../sound-propagation-simulation/dataset\\\\fromleft\\\\toleft\\\\record243.2132.wav', '../../sound-propagation-simulation/dataset\\\\fromleft\\\\toleft\\\\record247.2865.wav', '../../sound-propagation-simulation/dataset\\\\fromleft\\\\toleft\\\\record26.46961.wav', '../../sound-propagation-simulation/dataset\\\\fromleft\\\\toleft\\\\record30.53635.wav', '../../sound-propagation-simulation/dataset\\\\fromleft\\\\toleft\\\\record35.63866.wav', '../../sound-propagation-simulation/dataset\\\\fromleft\\\\toleft\\\\record39.71317.wav', '../../sound-propagation-simulation/dataset\\\\fromleft\\\\toleft\\\\record43.81554.wav', '../../sound-propagation-simulation/dataset\\\\fromleft\\\\toleft\\\\record47.86415.wav', '../../sound-propagation-simulation/dataset\\\\fromleft\\\\toleft\\\\record5.145132.wav', '../../sound-propagation-simulation/dataset\\\\fromleft\\\\toleft\\\\record52.95702.wav', '../../sound-propagation-simulation/dataset\\\\fromleft\\\\toleft\\\\record57.06139.wav', '../../sound-propagation-simulation/dataset\\\\fromleft\\\\toleft\\\\record61.14207.wav', '../../sound-propagation-simulation/dataset\\\\fromleft\\\\toleft\\\\record65.23475.wav', '../../sound-propagation-simulation/dataset\\\\fromleft\\\\toleft\\\\record70.34066.wav', '../../sound-propagation-simulation/dataset\\\\fromleft\\\\toleft\\\\record74.4238.wav', '../../sound-propagation-simulation/dataset\\\\fromleft\\\\toleft\\\\record78.49489.wav', '../../sound-propagation-simulation/dataset\\\\fromleft\\\\toleft\\\\record82.53884.wav', '../../sound-propagation-simulation/dataset\\\\fromleft\\\\toleft\\\\record87.62164.wav', '../../sound-propagation-simulation/dataset\\\\fromleft\\\\toleft\\\\record9.193436.wav', '../../sound-propagation-simulation/dataset\\\\fromleft\\\\toleft\\\\record91.74563.wav', '../../sound-propagation-simulation/dataset\\\\fromleft\\\\toleft\\\\record95.78611.wav', '../../sound-propagation-simulation/dataset\\\\fromleft\\\\toleft\\\\record99.86626.wav', '../../sound-propagation-simulation/dataset\\\\fromleft\\\\toright\\\\record0.wav', '../../sound-propagation-simulation/dataset\\\\fromleft\\\\toright\\\\record103.9193.wav', '../../sound-propagation-simulation/dataset\\\\fromleft\\\\toright\\\\record107.9937.wav', '../../sound-propagation-simulation/dataset\\\\fromleft\\\\toright\\\\record112.0558.wav', '../../sound-propagation-simulation/dataset\\\\fromleft\\\\toright\\\\record116.1136.wav', '../../sound-propagation-simulation/dataset\\\\fromleft\\\\toright\\\\record12.23347.wav', '../../sound-propagation-simulation/dataset\\\\fromleft\\\\toright\\\\record121.2133.wav', '../../sound-propagation-simulation/dataset\\\\fromleft\\\\toright\\\\record125.2654.wav', '../../sound-propagation-simulation/dataset\\\\fromleft\\\\toright\\\\record129.3137.wav', '../../sound-propagation-simulation/dataset\\\\fromleft\\\\toright\\\\record133.3828.wav', '../../sound-propagation-simulation/dataset\\\\fromleft\\\\toright\\\\record138.4397.wav', '../../sound-propagation-simulation/dataset\\\\fromleft\\\\toright\\\\record142.5009.wav', '../../sound-propagation-simulation/dataset\\\\fromleft\\\\toright\\\\record146.5573.wav', '../../sound-propagation-simulation/dataset\\\\fromleft\\\\toright\\\\record150.64.wav', '../../sound-propagation-simulation/dataset\\\\fromleft\\\\toright\\\\record151.6499.wav', '../../sound-propagation-simulation/dataset\\\\fromleft\\\\toright\\\\record155.6998.wav', '../../sound-propagation-simulation/dataset\\\\fromleft\\\\toright\\\\record159.748.wav', '../../sound-propagation-simulation/dataset\\\\fromleft\\\\toright\\\\record16.32945.wav', '../../sound-propagation-simulation/dataset\\\\fromleft\\\\toright\\\\record163.8426.wav', '../../sound-propagation-simulation/dataset\\\\fromleft\\\\toright\\\\record168.9123.wav', '../../sound-propagation-simulation/dataset\\\\fromleft\\\\toright\\\\record17.33666.wav', '../../sound-propagation-simulation/dataset\\\\fromleft\\\\toright\\\\record173.009.wav', '../../sound-propagation-simulation/dataset\\\\fromleft\\\\toright\\\\record177.1402.wav', '../../sound-propagation-simulation/dataset\\\\fromleft\\\\toright\\\\record181.1908.wav', '../../sound-propagation-simulation/dataset\\\\fromleft\\\\toright\\\\record186.2813.wav', '../../sound-propagation-simulation/dataset\\\\fromleft\\\\toright\\\\record190.3931.wav', '../../sound-propagation-simulation/dataset\\\\fromleft\\\\toright\\\\record194.4394.wav', '../../sound-propagation-simulation/dataset\\\\fromleft\\\\toright\\\\record198.491.wav', '../../sound-propagation-simulation/dataset\\\\fromleft\\\\toright\\\\record203.5827.wav', '../../sound-propagation-simulation/dataset\\\\fromleft\\\\toright\\\\record207.6419.wav', '../../sound-propagation-simulation/dataset\\\\fromleft\\\\toright\\\\record21.38363.wav', '../../sound-propagation-simulation/dataset\\\\fromleft\\\\toright\\\\record211.6947.wav', '../../sound-propagation-simulation/dataset\\\\fromleft\\\\toright\\\\record215.8001.wav', '../../sound-propagation-simulation/dataset\\\\fromleft\\\\toright\\\\record220.8659.wav', '../../sound-propagation-simulation/dataset\\\\fromleft\\\\toright\\\\record224.9284.wav', '../../sound-propagation-simulation/dataset\\\\fromleft\\\\toright\\\\record229.005.wav', '../../sound-propagation-simulation/dataset\\\\fromleft\\\\toright\\\\record233.05.wav', '../../sound-propagation-simulation/dataset\\\\fromleft\\\\toright\\\\record238.1327.wav', '../../sound-propagation-simulation/dataset\\\\fromleft\\\\toright\\\\record242.204.wav', '../../sound-propagation-simulation/dataset\\\\fromleft\\\\toright\\\\record246.2456.wav', '../../sound-propagation-simulation/dataset\\\\fromleft\\\\toright\\\\record25.4611.wav', '../../sound-propagation-simulation/dataset\\\\fromleft\\\\toright\\\\record29.52877.wav', '../../sound-propagation-simulation/dataset\\\\fromleft\\\\toright\\\\record33.61535.wav', '../../sound-propagation-simulation/dataset\\\\fromleft\\\\toright\\\\record34.62907.wav', '../../sound-propagation-simulation/dataset\\\\fromleft\\\\toright\\\\record38.70236.wav', '../../sound-propagation-simulation/dataset\\\\fromleft\\\\toright\\\\record4.109721.wav', '../../sound-propagation-simulation/dataset\\\\fromleft\\\\toright\\\\record42.78068.wav', '../../sound-propagation-simulation/dataset\\\\fromleft\\\\toright\\\\record46.85195.wav', '../../sound-propagation-simulation/dataset\\\\fromleft\\\\toright\\\\record51.92268.wav', '../../sound-propagation-simulation/dataset\\\\fromleft\\\\toright\\\\record56.02522.wav', '../../sound-propagation-simulation/dataset\\\\fromleft\\\\toright\\\\record60.09663.wav', '../../sound-propagation-simulation/dataset\\\\fromleft\\\\toright\\\\record64.22658.wav', '../../sound-propagation-simulation/dataset\\\\fromleft\\\\toright\\\\record69.32925.wav', '../../sound-propagation-simulation/dataset\\\\fromleft\\\\toright\\\\record73.40543.wav', '../../sound-propagation-simulation/dataset\\\\fromleft\\\\toright\\\\record77.48298.wav', '../../sound-propagation-simulation/dataset\\\\fromleft\\\\toright\\\\record8.183343.wav', '../../sound-propagation-simulation/dataset\\\\fromleft\\\\toright\\\\record81.5285.wav', '../../sound-propagation-simulation/dataset\\\\fromleft\\\\toright\\\\record86.60991.wav', '../../sound-propagation-simulation/dataset\\\\fromleft\\\\toright\\\\record90.71559.wav', '../../sound-propagation-simulation/dataset\\\\fromleft\\\\toright\\\\record94.77586.wav', '../../sound-propagation-simulation/dataset\\\\fromleft\\\\toright\\\\record98.85345.wav', '../../sound-propagation-simulation/dataset\\\\fromright\\\\toleft\\\\record10.20688.wav', '../../sound-propagation-simulation/dataset\\\\fromright\\\\toleft\\\\record100.8804.wav', '../../sound-propagation-simulation/dataset\\\\fromright\\\\toleft\\\\record105.9471.wav', '../../sound-propagation-simulation/dataset\\\\fromright\\\\toleft\\\\record110.0387.wav', '../../sound-propagation-simulation/dataset\\\\fromright\\\\toleft\\\\record114.0862.wav', '../../sound-propagation-simulation/dataset\\\\fromright\\\\toleft\\\\record118.158.wav', '../../sound-propagation-simulation/dataset\\\\fromright\\\\toleft\\\\record119.1734.wav', '../../sound-propagation-simulation/dataset\\\\fromright\\\\toleft\\\\record123.2412.wav', '../../sound-propagation-simulation/dataset\\\\fromright\\\\toleft\\\\record127.2826.wav', '../../sound-propagation-simulation/dataset\\\\fromright\\\\toleft\\\\record131.354.wav', '../../sound-propagation-simulation/dataset\\\\fromright\\\\toleft\\\\record135.4037.wav', '../../sound-propagation-simulation/dataset\\\\fromright\\\\toleft\\\\record136.4108.wav', '../../sound-propagation-simulation/dataset\\\\fromright\\\\toleft\\\\record14.284.wav', '../../sound-propagation-simulation/dataset\\\\fromright\\\\toleft\\\\record140.4705.wav', '../../sound-propagation-simulation/dataset\\\\fromright\\\\toleft\\\\record144.5359.wav', '../../sound-propagation-simulation/dataset\\\\fromright\\\\toleft\\\\record148.604.wav', '../../sound-propagation-simulation/dataset\\\\fromright\\\\toleft\\\\record153.6825.wav', '../../sound-propagation-simulation/dataset\\\\fromright\\\\toleft\\\\record157.7241.wav', '../../sound-propagation-simulation/dataset\\\\fromright\\\\toleft\\\\record161.8024.wav', '../../sound-propagation-simulation/dataset\\\\fromright\\\\toleft\\\\record165.8702.wav', '../../sound-propagation-simulation/dataset\\\\fromright\\\\toleft\\\\record170.984.wav', '../../sound-propagation-simulation/dataset\\\\fromright\\\\toleft\\\\record175.0983.wav', '../../sound-propagation-simulation/dataset\\\\fromright\\\\toleft\\\\record179.1726.wav', '../../sound-propagation-simulation/dataset\\\\fromright\\\\toleft\\\\record183.244.wav', '../../sound-propagation-simulation/dataset\\\\fromright\\\\toleft\\\\record188.3433.wav', '../../sound-propagation-simulation/dataset\\\\fromright\\\\toleft\\\\record19.35465.wav', '../../sound-propagation-simulation/dataset\\\\fromright\\\\toleft\\\\record192.418.wav', '../../sound-propagation-simulation/dataset\\\\fromright\\\\toleft\\\\record196.4571.wav', '../../sound-propagation-simulation/dataset\\\\fromright\\\\toleft\\\\record2.040642.wav', '../../sound-propagation-simulation/dataset\\\\fromright\\\\toleft\\\\record200.5369.wav', '../../sound-propagation-simulation/dataset\\\\fromright\\\\toleft\\\\record205.6264.wav', '../../sound-propagation-simulation/dataset\\\\fromright\\\\toleft\\\\record209.6661.wav', '../../sound-propagation-simulation/dataset\\\\fromright\\\\toleft\\\\record213.7608.wav', '../../sound-propagation-simulation/dataset\\\\fromright\\\\toleft\\\\record217.8263.wav', '../../sound-propagation-simulation/dataset\\\\fromright\\\\toleft\\\\record218.8417.wav', '../../sound-propagation-simulation/dataset\\\\fromright\\\\toleft\\\\record222.9003.wav', '../../sound-propagation-simulation/dataset\\\\fromright\\\\toleft\\\\record226.9779.wav', '../../sound-propagation-simulation/dataset\\\\fromright\\\\toleft\\\\record23.41832.wav', '../../sound-propagation-simulation/dataset\\\\fromright\\\\toleft\\\\record231.0267.wav', '../../sound-propagation-simulation/dataset\\\\fromright\\\\toleft\\\\record235.0977.wav', '../../sound-propagation-simulation/dataset\\\\fromright\\\\toleft\\\\record236.1079.wav', '../../sound-propagation-simulation/dataset\\\\fromright\\\\toleft\\\\record240.1575.wav', '../../sound-propagation-simulation/dataset\\\\fromright\\\\toleft\\\\record244.2223.wav', '../../sound-propagation-simulation/dataset\\\\fromright\\\\toleft\\\\record248.2968.wav', '../../sound-propagation-simulation/dataset\\\\fromright\\\\toleft\\\\record27.51206.wav', '../../sound-propagation-simulation/dataset\\\\fromright\\\\toleft\\\\record31.5443.wav', '../../sound-propagation-simulation/dataset\\\\fromright\\\\toleft\\\\record36.65214.wav', '../../sound-propagation-simulation/dataset\\\\fromright\\\\toleft\\\\record40.75912.wav', '../../sound-propagation-simulation/dataset\\\\fromright\\\\toleft\\\\record44.82695.wav', '../../sound-propagation-simulation/dataset\\\\fromright\\\\toleft\\\\record48.87439.wav', '../../sound-propagation-simulation/dataset\\\\fromright\\\\toleft\\\\record54.0024.wav', '../../sound-propagation-simulation/dataset\\\\fromright\\\\toleft\\\\record58.07485.wav', '../../sound-propagation-simulation/dataset\\\\fromright\\\\toleft\\\\record6.15576.wav', '../../sound-propagation-simulation/dataset\\\\fromright\\\\toleft\\\\record62.1731.wav', '../../sound-propagation-simulation/dataset\\\\fromright\\\\toleft\\\\record66.24364.wav', '../../sound-propagation-simulation/dataset\\\\fromright\\\\toleft\\\\record71.35816.wav', '../../sound-propagation-simulation/dataset\\\\fromright\\\\toleft\\\\record75.43542.wav', '../../sound-propagation-simulation/dataset\\\\fromright\\\\toleft\\\\record79.50961.wav', '../../sound-propagation-simulation/dataset\\\\fromright\\\\toleft\\\\record83.57446.wav', '../../sound-propagation-simulation/dataset\\\\fromright\\\\toleft\\\\record88.69331.wav', '../../sound-propagation-simulation/dataset\\\\fromright\\\\toleft\\\\record92.759.wav', '../../sound-propagation-simulation/dataset\\\\fromright\\\\toleft\\\\record96.82804.wav', '../../sound-propagation-simulation/dataset\\\\fromright\\\\toright\\\\record101.9036.wav', '../../sound-propagation-simulation/dataset\\\\fromright\\\\toright\\\\record102.9125.wav', '../../sound-propagation-simulation/dataset\\\\fromright\\\\toright\\\\record106.9805.wav', '../../sound-propagation-simulation/dataset\\\\fromright\\\\toright\\\\record11.22169.wav', '../../sound-propagation-simulation/dataset\\\\fromright\\\\toright\\\\record111.0473.wav', '../../sound-propagation-simulation/dataset\\\\fromright\\\\toright\\\\record115.1028.wav', '../../sound-propagation-simulation/dataset\\\\fromright\\\\toright\\\\record120.2033.wav', '../../sound-propagation-simulation/dataset\\\\fromright\\\\toright\\\\record124.2511.wav', '../../sound-propagation-simulation/dataset\\\\fromright\\\\toright\\\\record128.3.wav', '../../sound-propagation-simulation/dataset\\\\fromright\\\\toright\\\\record132.3705.wav', '../../sound-propagation-simulation/dataset\\\\fromright\\\\toright\\\\record137.4273.wav', '../../sound-propagation-simulation/dataset\\\\fromright\\\\toright\\\\record141.4909.wav', '../../sound-propagation-simulation/dataset\\\\fromright\\\\toright\\\\record145.543.wav', '../../sound-propagation-simulation/dataset\\\\fromright\\\\toright\\\\record149.6189.wav', '../../sound-propagation-simulation/dataset\\\\fromright\\\\toright\\\\record15.31884.wav', '../../sound-propagation-simulation/dataset\\\\fromright\\\\toright\\\\record154.6933.wav', '../../sound-propagation-simulation/dataset\\\\fromright\\\\toright\\\\record158.7372.wav', '../../sound-propagation-simulation/dataset\\\\fromright\\\\toright\\\\record162.8115.wav', '../../sound-propagation-simulation/dataset\\\\fromright\\\\toright\\\\record166.8795.wav', '../../sound-propagation-simulation/dataset\\\\fromright\\\\toright\\\\record167.894.wav', '../../sound-propagation-simulation/dataset\\\\fromright\\\\toright\\\\record171.9943.wav', '../../sound-propagation-simulation/dataset\\\\fromright\\\\toright\\\\record176.1113.wav', '../../sound-propagation-simulation/dataset\\\\fromright\\\\toright\\\\record180.1828.wav', '../../sound-propagation-simulation/dataset\\\\fromright\\\\toright\\\\record184.2586.wav', '../../sound-propagation-simulation/dataset\\\\fromright\\\\toright\\\\record185.2701.wav', '../../sound-propagation-simulation/dataset\\\\fromright\\\\toright\\\\record189.3537.wav', '../../sound-propagation-simulation/dataset\\\\fromright\\\\toright\\\\record193.4263.wav', '../../sound-propagation-simulation/dataset\\\\fromright\\\\toright\\\\record197.4803.wav', '../../sound-propagation-simulation/dataset\\\\fromright\\\\toright\\\\record20.36338.wav', '../../sound-propagation-simulation/dataset\\\\fromright\\\\toright\\\\record201.5453.wav', '../../sound-propagation-simulation/dataset\\\\fromright\\\\toright\\\\record202.5692.wav', '../../sound-propagation-simulation/dataset\\\\fromright\\\\toright\\\\record206.6343.wav', '../../sound-propagation-simulation/dataset\\\\fromright\\\\toright\\\\record210.6819.wav', '../../sound-propagation-simulation/dataset\\\\fromright\\\\toright\\\\record214.7699.wav', '../../sound-propagation-simulation/dataset\\\\fromright\\\\toright\\\\record219.8552.wav', '../../sound-propagation-simulation/dataset\\\\fromright\\\\toright\\\\record223.9149.wav', '../../sound-propagation-simulation/dataset\\\\fromright\\\\toright\\\\record227.9919.wav', '../../sound-propagation-simulation/dataset\\\\fromright\\\\toright\\\\record232.0355.wav', '../../sound-propagation-simulation/dataset\\\\fromright\\\\toright\\\\record237.1196.wav', '../../sound-propagation-simulation/dataset\\\\fromright\\\\toright\\\\record24.45503.wav', '../../sound-propagation-simulation/dataset\\\\fromright\\\\toright\\\\record241.1725.wav', '../../sound-propagation-simulation/dataset\\\\fromright\\\\toright\\\\record245.2344.wav', '../../sound-propagation-simulation/dataset\\\\fromright\\\\toright\\\\record249.3075.wav', '../../sound-propagation-simulation/dataset\\\\fromright\\\\toright\\\\record28.52044.wav', '../../sound-propagation-simulation/dataset\\\\fromright\\\\toright\\\\record3.054192.wav', '../../sound-propagation-simulation/dataset\\\\fromright\\\\toright\\\\record32.60487.wav', '../../sound-propagation-simulation/dataset\\\\fromright\\\\toright\\\\record37.6913.wav', '../../sound-propagation-simulation/dataset\\\\fromright\\\\toright\\\\record41.76995.wav', '../../sound-propagation-simulation/dataset\\\\fromright\\\\toright\\\\record45.83701.wav', '../../sound-propagation-simulation/dataset\\\\fromright\\\\toright\\\\record49.88673.wav', '../../sound-propagation-simulation/dataset\\\\fromright\\\\toright\\\\record50.90579.wav', '../../sound-propagation-simulation/dataset\\\\fromright\\\\toright\\\\record55.01448.wav', '../../sound-propagation-simulation/dataset\\\\fromright\\\\toright\\\\record59.08738.wav', '../../sound-propagation-simulation/dataset\\\\fromright\\\\toright\\\\record63.18565.wav', '../../sound-propagation-simulation/dataset\\\\fromright\\\\toright\\\\record67.25274.wav', '../../sound-propagation-simulation/dataset\\\\fromright\\\\toright\\\\record68.28096.wav', '../../sound-propagation-simulation/dataset\\\\fromright\\\\toright\\\\record7.168495.wav', '../../sound-propagation-simulation/dataset\\\\fromright\\\\toright\\\\record72.36681.wav', '../../sound-propagation-simulation/dataset\\\\fromright\\\\toright\\\\record76.47126.wav', '../../sound-propagation-simulation/dataset\\\\fromright\\\\toright\\\\record80.51758.wav', '../../sound-propagation-simulation/dataset\\\\fromright\\\\toright\\\\record84.58543.wav', '../../sound-propagation-simulation/dataset\\\\fromright\\\\toright\\\\record85.59978.wav', '../../sound-propagation-simulation/dataset\\\\fromright\\\\toright\\\\record89.70537.wav', '../../sound-propagation-simulation/dataset\\\\fromright\\\\toright\\\\record93.76718.wav', '../../sound-propagation-simulation/dataset\\\\fromright\\\\toright\\\\record97.83768.wav']\n"
     ]
    }
   ],
   "source": [
    "# Import libraries\n",
    "import matplotlib.pyplot as plt\n",
    "from scipy import signal\n",
    "from scipy.io import wavfile\n",
    "import os\n",
    "import numpy as np\n",
    "# for visualizing the data\n",
    "import matplotlib.pyplot as plt\n",
    "\n",
    "# Get the folder path\n",
    "folder = '../../sound-propagation-simulation/dataset'\n",
    "\n",
    "# List the files in the folder and every subfolder\n",
    "file_list =[]\n",
    "for path, subdirs, files in os.walk(folder):\n",
    "    for name in files:\n",
    "        if name.endswith('.wav'):\n",
    "            file_list.append(os.path.join(path, name))\n",
    "print(file_list)"
   ]
  },
  {
   "cell_type": "code",
   "execution_count": 3,
   "metadata": {},
   "outputs": [],
   "source": [
    "def wav_to_img(file):\n",
    "  print(file)\n",
    "  if file.endswith('.wav'):\n",
    "    try:\n",
    "      # Read wav file\n",
    "      sample_rate, samples = wavfile.read(os.path.join(folder, file))\n",
    "      # get channel count\n",
    "      samples = [samples[:,0], samples[:,1]]\n",
    "      # Compute spectrogram\n",
    "      for j,sample in enumerate(samples):\n",
    "        frequencies, times, spectrogram = signal.spectrogram(sample, sample_rate)\n",
    "        # Plot spectrogram\n",
    "        # get axis\n",
    "        fig = plt.figure(frameon=False)\n",
    "        ax = plt.Axes(fig, [0., 0., 1., 1.])\n",
    "        ax.set_axis_off()\n",
    "        fig.add_axes(ax)\n",
    "        plt.pcolormesh(times, frequencies, np.log(spectrogram))\n",
    "        plt.gca().set_axis_off()\n",
    "        # save figure in the same folder\n",
    "        print(os.path.join(folder, file[:-4]+\".\"+str(j)+'.png'))\n",
    "        plt.savefig(os.path.join(folder, file[:-4]+\".\"+str(j)+'.png'), bbox_inches='tight', pad_inches=0)\n",
    "        plt.close()\n",
    "      return True\n",
    "    except Exception as e:\n",
    "      print(e)\n",
    "      print('Error in file: ', file)\n",
    "  else:\n",
    "    return False"
   ]
  },
  {
   "cell_type": "code",
   "execution_count": 6,
   "metadata": {},
   "outputs": [
    {
     "name": "stdout",
     "output_type": "stream",
     "text": [
      "../../sound-propagation-simulation/dataset\\fromleft\\toleft\\record1.012058.wav\n",
      "../../sound-propagation-simulation/dataset\\../../sound-propagation-simulation/dataset\\fromleft\\toleft\\record1.012058.0.png\n",
      "../../sound-propagation-simulation/dataset\\../../sound-propagation-simulation/dataset\\fromleft\\toleft\\record1.012058.1.png\n",
      "asdlfkj\n",
      "../../sound-propagation-simulation/dataset\\fromleft\\toleft\\record1.012058.wav\n"
     ]
    }
   ],
   "source": [
    "# run wav_to_img function for each file in parallel\n",
    "# from tqdm import tqdm\n",
    "# from joblib import Parallel, delayed\n",
    "for file in file_list:\n",
    "    wav_to_img(file)\n",
    "    print(\"asdlfkj\")\n",
    "    print(file)\n",
    "    break\n",
    "#Parallel(n_jobs=4,verbose=10)(delayed(wav_to_img)(files[i]) for i in tqdm(range(len(files))))"
   ]
  },
  {
   "cell_type": "code",
   "execution_count": null,
   "metadata": {},
   "outputs": [],
   "source": []
  }
 ],
 "metadata": {
  "kernelspec": {
   "display_name": "Python 3",
   "language": "python",
   "name": "python3"
  },
  "language_info": {
   "codemirror_mode": {
    "name": "ipython",
    "version": 3
   },
   "file_extension": ".py",
   "mimetype": "text/x-python",
   "name": "python",
   "nbconvert_exporter": "python",
   "pygments_lexer": "ipython3",
   "version": "3.10.10"
  },
  "orig_nbformat": 4
 },
 "nbformat": 4,
 "nbformat_minor": 2
}
